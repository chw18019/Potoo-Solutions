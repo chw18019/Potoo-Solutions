{
  "nbformat": 4,
  "nbformat_minor": 0,
  "metadata": {
    "colab": {
      "name": "2. Modeling.ipynb",
      "provenance": [],
      "collapsed_sections": [],
      "toc_visible": true
    },
    "kernelspec": {
      "name": "python3",
      "display_name": "Python 3"
    }
  },
  "cells": [
    {
      "cell_type": "code",
      "metadata": {
        "id": "9MjLvdO1FiSg",
        "colab_type": "code",
        "colab": {}
      },
      "source": [
        "import numpy as np\n",
        "import pandas as pd\n",
        "from pandas.plotting import scatter_matrix\n",
        "import seaborn as sns\n",
        "import matplotlib.pyplot as plt\n",
        "import re\n",
        "\n",
        "from sklearn.linear_model import LogisticRegression\n",
        "from sklearn.tree import DecisionTreeClassifier\n",
        "from sklearn.neighbors import KNeighborsClassifier\n",
        "from sklearn.ensemble import RandomForestClassifier\n",
        "from sklearn.discriminant_analysis import LinearDiscriminantAnalysis\n",
        "from sklearn.naive_bayes import GaussianNB\n",
        "from sklearn.svm import SVC\n",
        "\n",
        "from sklearn.model_selection import cross_val_predict\n",
        "from sklearn.model_selection import StratifiedKFold\n",
        "from sklearn.model_selection import train_test_split\n",
        "from sklearn.model_selection import KFold\n",
        "from sklearn.model_selection import cross_val_score\n",
        "from sklearn.metrics import classification_report\n",
        "from sklearn.metrics import confusion_matrix\n",
        "from sklearn.metrics import accuracy_score\n",
        "from sklearn.metrics import plot_roc_curve\n",
        "from sklearn.inspection import plot_partial_dependence\n"
      ],
      "execution_count": 0,
      "outputs": []
    },
    {
      "cell_type": "code",
      "metadata": {
        "id": "RpZkchN6Fvh3",
        "colab_type": "code",
        "outputId": "3f820de7-0aaa-4bdf-fc1d-88d5f4eb6403",
        "colab": {
          "base_uri": "https://localhost:8080/",
          "height": 125
        }
      },
      "source": [
        "from google.colab import drive\n",
        "drive.mount('/content/drive')"
      ],
      "execution_count": 0,
      "outputs": [
        {
          "output_type": "stream",
          "text": [
            "Go to this URL in a browser: https://accounts.google.com/o/oauth2/auth?client_id=947318989803-6bn6qk8qdgf4n4g3pfee6491hc0brc4i.apps.googleusercontent.com&redirect_uri=urn%3aietf%3awg%3aoauth%3a2.0%3aoob&response_type=code&scope=email%20https%3a%2f%2fwww.googleapis.com%2fauth%2fdocs.test%20https%3a%2f%2fwww.googleapis.com%2fauth%2fdrive%20https%3a%2f%2fwww.googleapis.com%2fauth%2fdrive.photos.readonly%20https%3a%2f%2fwww.googleapis.com%2fauth%2fpeopleapi.readonly\n",
            "\n",
            "Enter your authorization code:\n",
            "··········\n",
            "Mounted at /content/drive\n"
          ],
          "name": "stdout"
        }
      ]
    },
    {
      "cell_type": "markdown",
      "metadata": {
        "id": "quW5QaLmeDRo",
        "colab_type": "text"
      },
      "source": [
        "# 1.Import Data"
      ]
    },
    {
      "cell_type": "code",
      "metadata": {
        "id": "h7bvMClrFv7P",
        "colab_type": "code",
        "colab": {}
      },
      "source": [
        "# Import data from the data pre-processing part\n",
        "\n",
        "df = pd.read_csv(\"/content/drive/Shared drives/Capstone Team 5/Submission/modeling.csv\", index_col=0)"
      ],
      "execution_count": 0,
      "outputs": []
    },
    {
      "cell_type": "code",
      "metadata": {
        "id": "VnegmQhqH_1z",
        "colab_type": "code",
        "colab": {}
      },
      "source": [
        "# Subset the target variable and predictors\n",
        "\n",
        "y = df['target_reso']\n",
        "#.ravel()\n",
        "X = df.iloc[:,1:]"
      ],
      "execution_count": 0,
      "outputs": []
    },
    {
      "cell_type": "code",
      "metadata": {
        "id": "QZd7fclGkt8b",
        "colab_type": "code",
        "outputId": "80e6b98a-40fb-43f4-b04b-a0e855c76e4f",
        "colab": {
          "base_uri": "https://localhost:8080/",
          "height": 52
        }
      },
      "source": [
        "# Print the numbers of rows and columns\n",
        "\n",
        "print(X.shape)\n",
        "print(y.shape)"
      ],
      "execution_count": 0,
      "outputs": [
        {
          "output_type": "stream",
          "text": [
            "(1930, 137)\n",
            "(1930,)\n"
          ],
          "name": "stdout"
        }
      ]
    },
    {
      "cell_type": "markdown",
      "metadata": {
        "id": "ps-zyiqeeG4p",
        "colab_type": "text"
      },
      "source": [
        " # 2.Data Splitting"
      ]
    },
    {
      "cell_type": "code",
      "metadata": {
        "id": "aSZ3zNUYc1mm",
        "colab_type": "code",
        "colab": {}
      },
      "source": [
        "# Hold on 20% of dataas a validation dataset and put a seed in random state to yield the same splitting \n",
        "\n",
        "validation_size = 0.20\n",
        "seed = 7\n",
        "X_train, X_test, Y_train, Y_test = train_test_split(X, y, test_size=validation_size, random_state=seed)"
      ],
      "execution_count": 0,
      "outputs": []
    },
    {
      "cell_type": "code",
      "metadata": {
        "id": "6yaS19PpkvhK",
        "colab_type": "code",
        "outputId": "8404fd68-2828-4824-95b6-5e2a059f87fb",
        "colab": {
          "base_uri": "https://localhost:8080/",
          "height": 87
        }
      },
      "source": [
        "# Print out the numbers of rows and columns in training and testing data\n",
        "\n",
        "print(\"X_train: \",X_train.shape)\n",
        "print(\"Y_train: \",Y_train.shape)\n",
        "print(\"X_test: \",X_test.shape)\n",
        "print(\"Y_test: \",Y_test.shape)"
      ],
      "execution_count": 0,
      "outputs": [
        {
          "output_type": "stream",
          "text": [
            "X_train:  (1544, 137)\n",
            "Y_train:  (1544,)\n",
            "X_test:  (386, 137)\n",
            "Y_test:  (386,)\n"
          ],
          "name": "stdout"
        }
      ]
    },
    {
      "cell_type": "markdown",
      "metadata": {
        "id": "KFyZi-fQGpPG",
        "colab_type": "text"
      },
      "source": [
        "# 3.Modeling"
      ]
    },
    {
      "cell_type": "code",
      "metadata": {
        "id": "E6PBdIsjGmoi",
        "colab_type": "code",
        "colab": {}
      },
      "source": [
        "# Make a list of models to fit and see which one has the best result\n",
        "# We choose a common used classification models to spot-check model performances\n",
        "\n",
        "models = []\n",
        "models.append(('LR', LogisticRegression(max_iter=1000000)))\n",
        "models.append(('LDA', LinearDiscriminantAnalysis()))\n",
        "models.append(('KNN', KNeighborsClassifier()))\n",
        "models.append(('CART', DecisionTreeClassifier()))\n",
        "models.append(('RF', RandomForestClassifier(random_state=42)))\n",
        "models.append(('SVM', SVC()))"
      ],
      "execution_count": 0,
      "outputs": []
    },
    {
      "cell_type": "code",
      "metadata": {
        "id": "HceRr-ZrGsCT",
        "colab_type": "code",
        "outputId": "1fd4d84b-75e4-4f4b-a91b-c36bf18b1aaa",
        "colab": {
          "base_uri": "https://localhost:8080/",
          "height": 401
        }
      },
      "source": [
        "# Evaluate each model in turn with Stratified 10 Fold-Cross Validation using 80% dataset (X_train and Y_train) \n",
        "# It means using nine of ten folds to create models, and using the rest one fold to validate the model performance\n",
        "\n",
        "# Create blank variables to store model name, results, and predictions\n",
        "results = []\n",
        "names = []\n",
        "dwPreds = [] \n",
        "for name, model in models:\n",
        "  # Specifiy stratified 10 Fold method\n",
        "  skf = StratifiedKFold(n_splits=10, random_state=seed, shuffle=True)\n",
        "\t# Store the metrics with the accuracy as the scoring method \n",
        "  cv_results = cross_val_score(model, X_train, Y_train, cv=skf, scoring='accuracy')\n",
        "  # Append results and model name\n",
        "  results.append(cv_results)\n",
        "  names.append(name)\n",
        "  # Print results\n",
        "  msg = \"%s: %f (%f)\" % (name, cv_results.mean(), cv_results.std())\n",
        "  print(msg)\n",
        "\n",
        "\n",
        "# Model Comparisionwith box plots\n",
        "# The best model is Random Forest with around 87% of average accuracy rate\n",
        "\n",
        "fig = plt.figure()\n",
        "fig.suptitle('Algorithm Comparison')\n",
        "ax = fig.add_subplot(111)\n",
        "plt.boxplot(results)\n",
        "ax.set_xticklabels(names)\n",
        "plt.show()"
      ],
      "execution_count": 0,
      "outputs": [
        {
          "output_type": "stream",
          "text": [
            "LR: 0.697574 (0.035838)\n",
            "LDA: 0.647084 (0.042445)\n",
            "KNN: 0.676820 (0.024215)\n",
            "CART: 0.794696 (0.024502)\n",
            "RF: 0.869200 (0.027921)\n",
            "SVM: 0.764248 (0.032439)\n"
          ],
          "name": "stdout"
        },
        {
          "output_type": "display_data",
          "data": {
            "image/png": "[encoded data removed]",
            "text/plain": [
              "<Figure size 432x288 with 1 Axes>"
            ]
          },
          "metadata": {
            "tags": [],
            "needs_background": "light"
          }
        }
      ]
    },
    {
      "cell_type": "markdown",
      "metadata": {
        "id": "FwrwZSA8eUb0",
        "colab_type": "text"
      },
      "source": [
        "# 4.Model Evaluation"
      ]
    },
    {
      "cell_type": "code",
      "metadata": {
        "id": "ZBbU7MokIPt_",
        "colab_type": "code",
        "colab": {}
      },
      "source": [
        "# Use 80% data to build a Random Forest model and make predictions\n",
        "\n",
        "clf = RandomForestClassifier(random_state=42)\n",
        "clf.fit(X_train, Y_train)\n",
        "\n",
        "# Make predictions on validation dataset\n",
        "test_pred = clf.predict(X_test)\n",
        "train_pred = clf.predict(X_train)"
      ],
      "execution_count": 0,
      "outputs": []
    },
    {
      "cell_type": "code",
      "metadata": {
        "id": "tv4V1dPeei8Y",
        "colab_type": "code",
        "outputId": "edb6f7de-be05-4d25-bda8-6d66e976f255",
        "colab": {
          "base_uri": "https://localhost:8080/",
          "height": 283
        }
      },
      "source": [
        "print('Model performance using testing Dataset(20%):')\n",
        "print('======================')\n",
        "print('The mean accuracy rate: ',round(accuracy_score(Y_test, test_pred),4))\n",
        "print(classification_report(Y_test, test_pred))"
      ],
      "execution_count": 0,
      "outputs": [
        {
          "output_type": "stream",
          "text": [
            "Model performance using testing Dataset(20%):\n",
            "======================\n",
            "The mean accuracy rate:  0.8808\n",
            "              precision    recall  f1-score   support\n",
            "\n",
            "           0       0.81      0.89      0.85       104\n",
            "           1       1.00      0.80      0.89         5\n",
            "           2       0.90      0.88      0.89       200\n",
            "           3       0.93      0.90      0.92        63\n",
            "           4       0.91      0.71      0.80        14\n",
            "\n",
            "    accuracy                           0.88       386\n",
            "   macro avg       0.91      0.84      0.87       386\n",
            "weighted avg       0.88      0.88      0.88       386\n",
            "\n"
          ],
          "name": "stdout"
        }
      ]
    },
    {
      "cell_type": "code",
      "metadata": {
        "id": "G7Vcytt8Iebv",
        "colab_type": "code",
        "outputId": "db938a5a-9258-49f9-bf8b-1d568b627787",
        "colab": {
          "base_uri": "https://localhost:8080/",
          "height": 335
        }
      },
      "source": [
        "# Confusion matrix using testing Dataset(20%)\n",
        "cm = pd.crosstab(Y_test, test_pred, rownames=['Actual'], colnames=['Predicted'], margins = True)\n",
        "cm.rename(columns={0:'Walmart',1:'Min-seller',2:'Costco',3:'Sears', 4:'Target'}, index={0:'Walmart',1:'Min-seller',2:'Costco',3:'Sears', 4:'Target'},inplace=True)\n",
        "sns.heatmap(cm, annot=True, fmt=\"d\", center=cm.iloc[1,1],cmap=\"RdYlGn\")"
      ],
      "execution_count": 0,
      "outputs": [
        {
          "output_type": "execute_result",
          "data": {
            "text/plain": [
              "<matplotlib.axes._subplots.AxesSubplot at 0x7fbb12c33c88>"
            ]
          },
          "metadata": {
            "tags": []
          },
          "execution_count": 12
        },
        {
          "output_type": "display_data",
          "data": {
            "image/png": "[encoded data removed]",
            "text/plain": [
              "<Figure size 432x288 with 2 Axes>"
            ]
          },
          "metadata": {
            "tags": [],
            "needs_background": "light"
          }
        }
      ]
    },
    {
      "cell_type": "code",
      "metadata": {
        "id": "0e_XttfOev64",
        "colab_type": "code",
        "outputId": "12a1fc8c-59bd-475a-f9c3-5faa0a27f94e",
        "colab": {
          "base_uri": "https://localhost:8080/",
          "height": 283
        }
      },
      "source": [
        "print('Model performance using training Dataset(80%):')\n",
        "print('======================')\n",
        "print('The mean accuracy rate: ',round(accuracy_score(Y_train, train_pred),4))\n",
        "print(classification_report(Y_train, train_pred))"
      ],
      "execution_count": 0,
      "outputs": [
        {
          "output_type": "stream",
          "text": [
            "Model performance using training Dataset(80%):\n",
            "======================\n",
            "The mean accuracy rate:  0.9793\n",
            "              precision    recall  f1-score   support\n",
            "\n",
            "           0       0.96      0.98      0.97       458\n",
            "           1       1.00      1.00      1.00        29\n",
            "           2       0.99      0.98      0.98       765\n",
            "           3       0.98      0.97      0.98       221\n",
            "           4       1.00      1.00      1.00        71\n",
            "\n",
            "    accuracy                           0.98      1544\n",
            "   macro avg       0.99      0.99      0.99      1544\n",
            "weighted avg       0.98      0.98      0.98      1544\n",
            "\n"
          ],
          "name": "stdout"
        }
      ]
    },
    {
      "cell_type": "code",
      "metadata": {
        "id": "dnnSoZRMhThw",
        "colab_type": "code",
        "outputId": "be398c40-0d80-4091-8e14-438bfba9874a",
        "colab": {
          "base_uri": "https://localhost:8080/",
          "height": 335
        }
      },
      "source": [
        "# Confusion matrix using training Dataset(80%)\n",
        "\n",
        "cm = pd.crosstab(Y_train, train_pred, rownames=['Actual'], colnames=['Predicted'], margins = True)\n",
        "cm.rename(columns={0:'Walmart',1:'Min-seller',2:'Costco',3:'Sears', 4:'Target'}, index={0:'Walmart',1:'Min-seller',2:'Costco',3:'Sears', 4:'Target'},inplace=True)\n",
        "sns.heatmap(cm, annot=True, fmt=\"d\", center=cm.iloc[1,1],cmap=\"RdYlGn\")"
      ],
      "execution_count": 0,
      "outputs": [
        {
          "output_type": "execute_result",
          "data": {
            "text/plain": [
              "<matplotlib.axes._subplots.AxesSubplot at 0x7fbb1190ee80>"
            ]
          },
          "metadata": {
            "tags": []
          },
          "execution_count": 14
        },
        {
          "output_type": "display_data",
          "data": {
            "image/png": "[encoded data removed]",
            "text/plain": [
              "<Figure size 432x288 with 2 Axes>"
            ]
          },
          "metadata": {
            "tags": [],
            "needs_background": "light"
          }
        }
      ]
    },
    {
      "cell_type": "markdown",
      "metadata": {
        "id": "U8IHTylLY3dU",
        "colab_type": "text"
      },
      "source": [
        "# 5.Model Intepretation\n"
      ]
    },
    {
      "cell_type": "markdown",
      "metadata": {
        "id": "T_JPl-hFnwr2",
        "colab_type": "text"
      },
      "source": [
        "## 5-1.Features Importance"
      ]
    },
    {
      "cell_type": "code",
      "metadata": {
        "id": "hv4rBJvecRjh",
        "colab_type": "code",
        "colab": {}
      },
      "source": [
        "# Use built-in attributes of Random Forset model to determine important features\n",
        "# The feature importance is calculated based on the number of times that the feature is used to split nodes\n",
        "\n",
        "# We chose to select top 20 features to perform further analysis\n",
        "num = 20\n",
        "\n",
        "feature_importance = clf.feature_importances_\n",
        "# make importances relative to max importance\n",
        "sorted_idx_fi = np.argsort(feature_importance)[-num:]\n",
        "pos = np.arange(sorted_idx_fi.shape[0]) + .5\n",
        "plt.barh(pos[-num:], feature_importance[sorted_idx_fi], align='center')\n",
        "plt.yticks(pos[-num:], X_train.columns[sorted_idx_fi])\n",
        "plt.xlabel('Feature Importance')\n",
        "plt.title('Feature Importances for Random Forest')\n",
        "plt.show()"
      ],
      "execution_count": 0,
      "outputs": []
    },
    {
      "cell_type": "markdown",
      "metadata": {
        "id": "WP7XUSdXfMk6",
        "colab_type": "text"
      },
      "source": [
        "## 5-2.Partial Dependence Plots"
      ]
    },
    {
      "cell_type": "code",
      "metadata": {
        "id": "aqa1XUgdD2Tn",
        "colab_type": "code",
        "outputId": "25c3f593-c645-4c05-d02d-c61c22f5d1f0",
        "colab": {
          "base_uri": "https://localhost:8080/",
          "height": 258
        }
      },
      "source": [
        "# An example for partial dependence plots\n",
        "\n",
        "fig, ax = plt.subplots(figsize=(3, 3))\n",
        "ax.set_title(\"Partial Dependence in class %s\" % reso[2])\n",
        "plot_partial_dependence(clf, X, ['kirklandsignature'],target=2,\n",
        "                          n_jobs=3, grid_resolution=20, ax=ax)"
      ],
      "execution_count": 0,
      "outputs": [
        {
          "output_type": "execute_result",
          "data": {
            "text/plain": [
              "<sklearn.inspection._partial_dependence.PartialDependenceDisplay at 0x7fbb10c19cf8>"
            ]
          },
          "metadata": {
            "tags": []
          },
          "execution_count": 79
        },
        {
          "output_type": "display_data",
          "data": {
            "image/png": "[encoded data removed]",
            "text/plain": [
              "<Figure size 216x216 with 2 Axes>"
            ]
          },
          "metadata": {
            "tags": [],
            "needs_background": "light"
          }
        }
      ]
    },
    {
      "cell_type": "code",
      "metadata": {
        "id": "gihzBFJ1cTKR",
        "colab_type": "code",
        "colab": {}
      },
      "source": [
        "# Create a list to hold top 20 important features and a dictionary to hold the target variable\n",
        "\n",
        "fil = X_train.columns[sorted_idx_fi].to_list()\n",
        "reso = {0:'Walmart',1:'Min-seller',2:'Costco',3:'Sears', 4:'Target'}"
      ],
      "execution_count": 0,
      "outputs": []
    },
    {
      "cell_type": "code",
      "metadata": {
        "id": "0id6Xo-wgK0u",
        "colab_type": "code",
        "colab": {}
      },
      "source": [
        "# Important brands of partial dependence plots\n",
        "\n",
        "r = re.compile(\"^3|[a-z]\")\n",
        "brands = list(filter(r.match, fil))\n",
        "brands\n",
        "\n",
        "for i in range(len(reso)):\n",
        "  fig, ax = plt.subplots(figsize=(10, 10))\n",
        "  ax.set_title(\"Partial Dependence in class %s\" % reso[i])\n",
        "  plot_partial_dependence(clf, X_train, brands, target=i,\n",
        "                          n_jobs=3, grid_resolution=20,ax=ax)\n"
      ],
      "execution_count": 0,
      "outputs": []
    },
    {
      "cell_type": "code",
      "metadata": {
        "id": "pr_n7LbzhUr2",
        "colab_type": "code",
        "colab": {}
      },
      "source": [
        "# Important selling preliminaries of partial dependence plots\n",
        "\n",
        "r = re.compile(\"^SP_\")\n",
        "SP = list(filter(r.match, fil))\n",
        "\n",
        "for i in range(len(reso)):\n",
        "  fig, ax = plt.subplots(figsize=(10, 7))\n",
        "  ax.set_title(\"Partial Dependence in class %s\" % reso[i])\n",
        "  plot_partial_dependence(clf, X_train,SP, target=i,\n",
        "                          n_jobs=3,ax=ax)\n"
      ],
      "execution_count": 0,
      "outputs": []
    },
    {
      "cell_type": "code",
      "metadata": {
        "id": "lO0ZONMVryPr",
        "colab_type": "code",
        "colab": {}
      },
      "source": [
        "# Other important variables of partial dependence plots\n",
        "\n",
        "others = list(set(fil) - set(brands+SP))\n",
        "others.sort()\n",
        " \n",
        "for i in range(len(reso)):\n",
        "  fig, ax = plt.subplots(figsize=(10, 10))\n",
        "  ax.set_title(\"Partial Dependence in class %s\" % reso[i])\n",
        "  plot_partial_dependence(clf, X_train, others, target=i,\n",
        "                          n_jobs=3, grid_resolution=20,ax=ax)"
      ],
      "execution_count": 0,
      "outputs": []
    },
    {
      "cell_type": "code",
      "metadata": {
        "id": "Atgq5TSG_f4x",
        "colab_type": "code",
        "colab": {}
      },
      "source": [
        "# Partial dependence plots for each class\n",
        "\n",
        "for i in range(len(reso)):\n",
        "  fig, ax = plt.subplots(figsize=(6, 6))\n",
        "  ax.set_title(\"Partial Dependence in class %s\" % reso[i])\n",
        "  plot_partial_dependence(clf, X_train, brands, target=i,\n",
        "                          n_jobs=3, grid_resolution=20, ax=ax)"
      ],
      "execution_count": 0,
      "outputs": []
    }
  ]
}